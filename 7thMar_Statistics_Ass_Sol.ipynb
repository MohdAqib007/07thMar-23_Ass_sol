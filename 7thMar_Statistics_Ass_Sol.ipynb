{
 "cells": [
  {
   "cell_type": "code",
   "execution_count": null,
   "id": "5e7c8a84-eb11-4db6-ae3b-ffd76b14eaa4",
   "metadata": {},
   "outputs": [],
   "source": [
    "#Q1. What are the three measures of central tendency?\n",
    "#Ans-\n",
    "\n",
    "'''The three measures of central tendency are:\n",
    "\n",
    "1. Mean: The mean is the most commonly used measure of central tendency. It is calculated by adding up all the values in a dataset and dividing the sum by the total number of values.\n",
    "\n",
    "2. Median: The median is the middle value in a dataset when the values are arranged in order. To find the median, you need to arrange the values in order, and then pick the middle value. \n",
    "If there are an even number of values, you take the average of the two middle values.\n",
    "\n",
    "3. Mode: The mode is the value that appears most frequently in a dataset. If there are two values that appear with the same frequency and more often than any other value, the dataset is considered bimodal. \n",
    "If there is no value that appears more frequently than any other, the dataset is considered to have no mode.'''"
   ]
  },
  {
   "cell_type": "code",
   "execution_count": null,
   "id": "be608ed5-2462-49e2-851a-d44151627571",
   "metadata": {},
   "outputs": [],
   "source": [
    "#Q2. What is the difference between the mean, median, and mode? How are they used to measure the central tendency of a dataset?\n",
    "#Ans-\n",
    "\n",
    "'''The mean, median, and mode are all measures of central tendency that describe where the center of a dataset is located. The main differences between these three measures are:\n",
    "\n",
    "Mean: The mean is the sum of all values in a dataset divided by the total number of values. It is influenced by outliers and extreme values, which can make it an unreliable measure of central tendency in skewed distributions. \n",
    "The mean is used to describe the average value of a dataset and is often used in inferential statistics.\n",
    "\n",
    "Median: The median is the middle value in a dataset when the values are arranged in order. It is not influenced by extreme values or outliers and is a better measure of central tendency for skewed distributions. \n",
    "The median is used to describe the typical value of a dataset and is often used in descriptive statistics.\n",
    "\n",
    "Mode: The mode is the most frequently occurring value in a dataset. It is useful for describing the most common value or category in a dataset, especially in categorical data. \n",
    "The mode is not as widely used as the mean or median, but it can be helpful in understanding the central tendency of a dataset.\n",
    "\n",
    "In general, the choice of which measure of central tendency to use depends on the type of data being analyzed and the research question being asked. For example, if a dataset has a normal distribution, the mean and median will be close to each other and can both be used to describe the central tendency. \n",
    "However, if a dataset has a skewed distribution, the median may be a better measure of central tendency as it is less influenced by extreme values. The mode is often used to describe the most common category in categorical data, such as the most common eye color or favorite food.'''"
   ]
  },
  {
   "cell_type": "code",
   "execution_count": 14,
   "id": "acbdfdf9-d745-44ef-8048-3c8e77f2d387",
   "metadata": {},
   "outputs": [
    {
     "name": "stdout",
     "output_type": "stream",
     "text": [
      "177.01875\n",
      "177.0\n",
      "ModeResult(mode=array([177.]), count=array([3]))\n"
     ]
    },
    {
     "name": "stderr",
     "output_type": "stream",
     "text": [
      "/tmp/ipykernel_482/2414905061.py:12: FutureWarning: Unlike other reduction functions (e.g. `skew`, `kurtosis`), the default behavior of `mode` typically preserves the axis it acts along. In SciPy 1.11.0, this behavior will change: the default value of `keepdims` will become False, the `axis` over which the statistic is taken will be eliminated, and the value None will no longer be accepted. Set `keepdims` to True or False to avoid this warning.\n",
      "  print(st.mode(a))\n"
     ]
    }
   ],
   "source": [
    "#Q3. Measure the three measures of central tendency for the given height data:\n",
    "#[178,177,176,177,178.2,178,175,179,180,175,178.9,176.2,177,172.5,178,176.5]\n",
    "#Ans-\n",
    "\n",
    "a = [178,177,176,177,178.2,178,175,179,180,175,178.9,176.2,177,172.5,178,176.5]\n",
    "\n",
    "import numpy as np\n",
    "\n",
    "from scipy import stats as st\n",
    "print(np.mean(a))\n",
    "print(np.median(a))\n",
    "print(st.mode(a))"
   ]
  },
  {
   "cell_type": "code",
   "execution_count": 17,
   "id": "921b166a-3b7a-4778-ae52-99a5aff69df3",
   "metadata": {},
   "outputs": [
    {
     "data": {
      "text/plain": [
       "1.7885814036548633"
      ]
     },
     "execution_count": 17,
     "metadata": {},
     "output_type": "execute_result"
    }
   ],
   "source": [
    "#Q4. Find the standard deviation for the given data:\n",
    "#[178,177,176,177,178.2,178,175,179,180,175,178.9,176.2,177,172.5,178,176.5]\n",
    "\n",
    "#Ans-\n",
    "np.std(a)"
   ]
  },
  {
   "cell_type": "code",
   "execution_count": null,
   "id": "4e93ca54-54ac-488f-9ef8-02c979540f4c",
   "metadata": {},
   "outputs": [],
   "source": [
    "#Q5. How are measures of dispersion such as range, variance, and standard deviation used to describe the spread of a dataset? Provide an example.\n",
    "#Ans-\n",
    "\n",
    "'''Measures of dispersion, such as range, variance, and standard deviation, are used to describe the spread or variability of a dataset. \n",
    "They give an idea of how much the individual data points deviate from the central tendency of the dataset.\n",
    "\n",
    "Range: The range is the difference between the maximum and minimum values in a dataset. It gives a simple measure of the spread of the data but is sensitive to outliers. \n",
    "For example, if we have a dataset of test scores for a class of students, the range would be the difference between the highest and lowest scores.\n",
    "\n",
    "Variance: The variance is a measure of how much the data points deviate from the mean of the dataset. It is calculated by taking the sum of the squared differences between each data point and the mean, and then dividing by the total number of data points. \n",
    "A higher variance means the data points are more spread out from the mean. For example, if we have a dataset of heights of students in a class, the variance would tell us how much the heights of the students differ from the average height of the class.\n",
    "\n",
    "Standard Deviation: The standard deviation is the square root of the variance. It is a widely used measure of dispersion that expresses the average distance of the data points from the mean. \n",
    "A higher standard deviation indicates that the data points are more spread out from the mean. For example, if we have a dataset of the weights of apples in a box, the standard deviation would tell us how much the weights of the apples vary from the average weight of the box.\n",
    "\n",
    "In general, measures of dispersion are used along with measures of central tendency to provide a more complete description of the dataset. \n",
    "For example, if we have a dataset of salaries of employees in a company, we might report the mean salary as the central tendency and the standard deviation as the measure of dispersion to show how much the salaries vary from the average. \n",
    "This information can be useful for making decisions such as setting salary ranges or evaluating employee compensation packages.'''"
   ]
  },
  {
   "cell_type": "code",
   "execution_count": null,
   "id": "3c15053e-d1bc-4f6d-9d3d-f9dfaaa0357b",
   "metadata": {},
   "outputs": [],
   "source": [
    "#Q6. What is a Venn diagram?\n",
    "#Ans-\n",
    "'''A Venn diagram is a graphical representation of the relationships between different sets of data. It consists of two or more overlapping circles or shapes, each representing a set, and the overlapping regions representing the intersection of the sets. \n",
    "The diagram is named after John Venn, a British logician and philosopher who developed the concept in the 1880s.\n",
    "\n",
    "Venn diagrams are used to illustrate set relationships and to visually organize information. \n",
    "They are often used in mathematics, statistics, logic, and computer science, but can also be used in other fields to show relationships between different groups or categories of data.\n",
    "\n",
    "For example, a Venn diagram can be used to show the relationships between different categories of animals. One circle could represent mammals, another could represent birds, and the overlapping region could represent animals that are both mammals and birds (e.g. bats). \n",
    "Another example could be a Venn diagram that shows the relationships between different types of fruits, with circles representing apples, oranges, and bananas, and the overlapping regions representing fruits that share characteristics of more than one type (e.g. a fruit that is both sweet like an apple and shaped like a banana).'''"
   ]
  },
  {
   "cell_type": "code",
   "execution_count": null,
   "id": "3144a98d-88aa-41cd-a095-c8e45297992e",
   "metadata": {},
   "outputs": [],
   "source": [
    "#Q7. For the two given sets A = (2,3,4,5,6,7) & B = (0,2,6,8,10). Find:\n",
    "#(i) A ∩ B\n",
    "#(ii) A ⋃ B\n",
    "\n",
    "#Ans-\n",
    "'''(i) A ∩ B means the intersection of sets A and B, which is the set of elements that are common to both A and B. \n",
    "To find A ∩ B, we need to identify the elements that appear in both sets. In this case, the elements that are common to A and B are 2 and 6, since they appear in both sets.\n",
    "\n",
    "Therefore, A ∩ B = {2, 6}.\n",
    "\n",
    "(ii) A ⋃ B means the union of sets A and B, which is the set of all elements that appear in either A or B, or both. \n",
    "To find A ⋃ B, we need to combine all the elements from both sets, without duplicates.\n",
    "\n",
    "The combined set of A and B is {0, 2, 3, 4, 5, 6, 7, 8, 10}. This is because set A contains the elements 2, 3, 4, 5, 6, and 7, while set B contains the elements 0, 2, 6, 8, and 10. \n",
    "We remove duplicates, so the element 2 only appears once in the combined set.\n",
    "\n",
    "Therefore, A ⋃ B = {0, 2, 3, 4, 5, 6, 7, 8, 10}.'''"
   ]
  },
  {
   "cell_type": "code",
   "execution_count": null,
   "id": "1e90ef94-539e-4fdb-bb07-b302304f3995",
   "metadata": {},
   "outputs": [],
   "source": [
    "#Q8. What do you understand about skewness in data?\n",
    "#Ans-\n",
    "'''Skewness in data is a measure of the asymmetry of the probability distribution of a variable. It is a statistical measure that describes the degree of distortion or lack of symmetry in a dataset. \n",
    "A dataset is said to be skewed if it is not evenly distributed around the mean.\n",
    "\n",
    "In a symmetrical distribution, the mean, median, and mode are all equal. However, in a skewed distribution, they can differ significantly. \n",
    "There are two types of skewness:\n",
    "\n",
    "1. Positive skewness: A dataset is said to be positively skewed if the tail on the right side of the distribution is longer or fatter than the tail on the left side. \n",
    "This means that there are more data points on the left side of the distribution, and the data points on the right side are more spread out. In a positively skewed distribution, the mean is greater than the median and the mode.\n",
    "\n",
    "2. Negative skewness: A dataset is said to be negatively skewed if the tail on the left side of the distribution is longer or fatter than the tail on the right side. \n",
    "This means that there are more data points on the right side of the distribution, and the data points on the left side are more spread out. In a negatively skewed distribution, the mean is less than the median and the mode.\n",
    "\n",
    "Skewness can affect the interpretation of statistical analyses and should be considered when interpreting data. \n",
    "For example, in a positively skewed distribution, the mean may not be a good measure of central tendency, as it can be influenced by outliers. \n",
    "In such cases, the median may be a more appropriate measure of central tendency.'''"
   ]
  },
  {
   "cell_type": "code",
   "execution_count": null,
   "id": "b6631e7f-0da2-43e4-97ed-8f0764b4acb5",
   "metadata": {},
   "outputs": [],
   "source": [
    "#Q9. If a data is right skewed then what will be the position of median with respect to mean?\n",
    "#Ans-\n",
    "'''\n",
    "If a data is right skewed, the median will be less than the mean. This is because in a right-skewed distribution, the tail of the distribution is longer on the right side, and there are more extreme values on the right side of the distribution. \n",
    "These extreme values have a greater influence on the mean, pulling it towards the right, while the median is less affected by extreme values and remains closer to the center of the distribution.\n",
    "\n",
    "Therefore, if a dataset is right-skewed, the median will be located to the left of the mean. The greater the skewness, the further apart the median and mean will be. \n",
    "It is important to consider both measures when analyzing skewed data, as they provide different insights into the central tendency of the dataset.'''"
   ]
  },
  {
   "cell_type": "code",
   "execution_count": null,
   "id": "7fe22b7e-4cf0-4bfc-a529-f614e9136c5d",
   "metadata": {},
   "outputs": [],
   "source": [
    "#Q10. Explain the difference between covariance and correlation. How are these measures used in statistical analysis?\n",
    "#Ans-\n",
    "'''Covariance and correlation are two measures that are used to quantify the relationship between two variables in statistical analysis. Although they are related, there are some important differences between them.\n",
    "\n",
    "Covariance is a measure of the linear relationship between two variables. It measures how much two variables change together, and whether they have a positive or negative relationship. \n",
    "Specifically, covariance measures the degree to which two variables vary together, relative to their individual variances. \n",
    "A positive covariance indicates that the variables tend to increase or decrease together, while a negative covariance indicates that they tend to vary in opposite directions.\n",
    "The formula for calculating covariance is:\n",
    "\n",
    "Cov(X, Y) = Σ[(Xi - X̄) * (Yi - Ȳ)] / (n - 1)\n",
    "\n",
    "where X and Y are the two variables, Xi and Yi are their corresponding values, X̄ and Ȳ are their means, and n is the number of observations.\n",
    "\n",
    "However, covariance has a limitation in that it depends on the scale of the variables being measured, making it difficult to compare the relationship between variables with different units of measurement.\n",
    "\n",
    "Correlation, on the other hand, is a standardized measure that indicates the degree to which two variables are related, irrespective of their scales. \n",
    "It ranges from -1 to +1, with a value of +1 indicating a perfect positive correlation, a value of -1 indicating a perfect negative correlation, and a value of 0 indicating no correlation. \n",
    "Correlation is calculated by dividing the covariance by the product of the standard deviations of the two variables.\n",
    "The formula for calculating the correlation coefficient is:\n",
    "\n",
    "r = Cov(X, Y) / (σX * σY)\n",
    "\n",
    "where r is the correlation coefficient, Cov(X, Y) is the covariance between X and Y, σX is the standard deviation of X, and σY is the standard deviation of Y.\n",
    "\n",
    "In statistical analysis, covariance and correlation are used to understand the relationship between two variables. \n",
    "Covariance is used to measure the strength and direction of the relationship between two variables, while correlation is used to measure the strength and direction of the relationship between two variables while accounting for the scales of the variables. \n",
    "Correlation is often preferred over covariance because it provides a standardized measure that is easier to interpret and compare across different datasets.'''"
   ]
  },
  {
   "cell_type": "code",
   "execution_count": null,
   "id": "fc739a8a-92f3-4cf1-82f0-eeb4063e27b2",
   "metadata": {},
   "outputs": [],
   "source": [
    "#Q11. What is the formula for calculating the sample mean? Provide an example calculation for a dataset.\n",
    "#Ans-\n",
    "'''The formula for calculating the sample mean is:\n",
    "\n",
    "X̄ = ΣXi / n\n",
    "\n",
    "where X̄ is the sample mean, ΣXi is the sum of all the individual observations in the dataset, and n is the number of observations.\n",
    "\n",
    "Here's an example calculation for a dataset:\n",
    "\n",
    "Suppose we have the following dataset of 10 observations:\n",
    "\n",
    "5, 7, 8, 12, 6, 9, 11, 8, 10, 7\n",
    "\n",
    "To calculate the sample mean, we add up all the individual observations and divide by the number of observations:\n",
    "\n",
    "X̄ = (5 + 7 + 8 + 12 + 6 + 9 + 11 + 8 + 10 + 7) / 10\n",
    "\n",
    "X̄ = 83 / 10\n",
    "\n",
    "X̄ = 8.3\n",
    "\n",
    "Therefore, the sample mean for this dataset is 8.3.'''"
   ]
  },
  {
   "cell_type": "code",
   "execution_count": null,
   "id": "25215e11-7a1b-409d-b43d-dc869c714b7d",
   "metadata": {},
   "outputs": [],
   "source": [
    "#Q12. For a normal distribution data what is the relationship between its measure of central tendency?\n",
    "#Ans-\n",
    "'''For a normal distribution data, the mean, median, and mode are all equal to each other. This is because a normal distribution is symmetric around its mean, and the mean is the point of balance for the distribution.\n",
    "\n",
    "The mean, median, and mode are all measures of central tendency, but they describe different aspects of the distribution. \n",
    "The mean is the arithmetic average of all the observations, the median is the middle value when the observations are arranged in order, and the mode is the most frequently occurring value.\n",
    "\n",
    "In a normal distribution, the mean, median, and mode are all located at the peak of the distribution, which is at the center of the distribution. This makes the three measures of central tendency equal to each other, providing a useful way to summarize the distribution.\n",
    "\n",
    "In summary, for a normal distribution, the mean, median, and mode are equal and located at the center of the distribution. This property is one of the reasons why the normal distribution is so important in statistics and probability theory.'''"
   ]
  },
  {
   "cell_type": "code",
   "execution_count": null,
   "id": "ec68acfd-4aef-4b36-874c-5014d9ad3e00",
   "metadata": {},
   "outputs": [],
   "source": [
    "#Q13. How is covariance different from correlation?\n",
    "#Ans-\n",
    "'''Covariance and correlation are both measures of the relationship between two variables, but they differ in their interpretation and scaling.\n",
    "\n",
    "Covariance measures the degree to which two variables vary together. It is a measure of the joint variability of two variables, meaning that it measures how much two variables change together. \n",
    "A positive covariance indicates that the two variables tend to increase or decrease together, while a negative covariance indicates that one variable tends to increase as the other decreases.\n",
    "\n",
    "However, the value of covariance is dependent on the scale of the variables being measured. This means that the magnitude of the covariance depends on the units in which the variables are measured. As a result, it can be difficult to interpret the absolute value of covariance.\n",
    "\n",
    "Correlation, on the other hand, measures the strength and direction of the linear relationship between two variables. \n",
    "It is a standardized measure that ranges from -1 to 1, where a correlation of -1 indicates a perfect negative linear relationship, a correlation of 0 indicates no linear relationship, and a correlation of 1 indicates a perfect positive linear relationship.\n",
    "\n",
    "Unlike covariance, correlation is not affected by the scale of the variables being measured, making it easier to interpret and compare across different datasets.\n",
    "\n",
    "In summary, covariance and correlation are both measures of the relationship between two variables, but covariance measures the joint variability of two variables and is affected by the scale of the variables, while correlation measures the strength and direction of the linear relationship between two variables and is standardized and not affected by the scale of the variables.'''"
   ]
  },
  {
   "cell_type": "code",
   "execution_count": null,
   "id": "b8f0734d-ea4c-4474-b323-7dc2563828bd",
   "metadata": {},
   "outputs": [],
   "source": [
    "#Q14. How do outliers affect measures of central tendency and dispersion? Provide an example.\n",
    "#Ans\n",
    "\n",
    "'''\n",
    "Outliers are extreme values in a dataset that are much larger or smaller than the other values in the dataset. Outliers can have a significant effect on measures of central tendency and dispersion.\n",
    "\n",
    "When an outlier is present in a dataset, it can pull the mean away from the center of the distribution, causing the mean to no longer be representative of the typical values in the dataset. \n",
    "For example, if a dataset of test scores has an outlier value of 100, the mean score will be much higher than if the outlier were not present. However, the median is less affected by outliers because it is less influenced by extreme values.\n",
    "\n",
    "Outliers can also affect measures of dispersion such as the range and standard deviation. The range, which is the difference between the highest and lowest values in a dataset, can be greatly affected by outliers. \n",
    "For example, if a dataset of salaries has an outlier value of $1 million, the range will be much larger than if the outlier were not present. Similarly, the standard deviation, which measures the spread of the data around the mean, can be influenced by outliers. \n",
    "A large outlier value can increase the standard deviation, indicating that the data is more spread out than it actually is.\n",
    "\n",
    "Here's an example to illustrate the effect of outliers on measures of central tendency and dispersion:\n",
    "\n",
    "Suppose we have the following dataset of 10 salaries:\n",
    "\n",
    "$30,000, $35,000, $40,000, $45,000, $50,000, $55,000, $60,000, $65,000, $70,000, $1,000,000\n",
    "\n",
    "If we calculate the mean salary, it is $153,500, which is heavily influenced by the outlier value of $1,000,000. The median salary, however, is $52,500, which is a more representative measure of central tendency in this dataset.\n",
    "\n",
    "The range of the dataset is $970,000, which is heavily influenced by the outlier value of $1,000,000. If we remove the outlier value, the range becomes $40,000, which is a more representative measure of dispersion.\n",
    "\n",
    "Similarly, the standard deviation of the dataset is $318,659, which is heavily influenced by the outlier value of $1,000,000. If we remove the outlier value, the standard deviation becomes $15,335, which is a more representative measure of dispersion.'''"
   ]
  }
 ],
 "metadata": {
  "kernelspec": {
   "display_name": "Python 3 (ipykernel)",
   "language": "python",
   "name": "python3"
  },
  "language_info": {
   "codemirror_mode": {
    "name": "ipython",
    "version": 3
   },
   "file_extension": ".py",
   "mimetype": "text/x-python",
   "name": "python",
   "nbconvert_exporter": "python",
   "pygments_lexer": "ipython3",
   "version": "3.10.8"
  }
 },
 "nbformat": 4,
 "nbformat_minor": 5
}
